{
 "cells": [
  {
   "cell_type": "code",
   "execution_count": 14,
   "metadata": {},
   "outputs": [
    {
     "data": {
      "text/plain": [
       "'22'"
      ]
     },
     "execution_count": 14,
     "metadata": {},
     "output_type": "execute_result"
    }
   ],
   "source": [
    "\"\"\"学习用正则表达式处理时间格式\"\"\"\n",
    "\n",
    "import re\n",
    "\n",
    "raw_date = \"2017-08-22T16:40:00+08:00\" \n",
    "\n",
    "expr = r\"\\b(?P<year>\\d\\d\\d\\d)-(?P<month>\\d\\d)-(?P<date>\\d\\d)T(?P<time>\\d\\d:\\d\\d:\\d\\d)\\b\"\n",
    "x = re.search(expr, raw_date)\n",
    "x.group('year')\n",
    "x.group('time')\n",
    "x.group('month')\n",
    "x.group('date')"
   ]
  },
  {
   "cell_type": "code",
   "execution_count": 3,
   "metadata": {},
   "outputs": [
    {
     "data": {
      "text/plain": [
       "'2017-08-22 16:40:00'"
      ]
     },
     "execution_count": 3,
     "metadata": {},
     "output_type": "execute_result"
    }
   ],
   "source": [
    "\"\"\"使用正则表达式编写处理时间格式的函数\"\"\"\n",
    "\n",
    "import re\n",
    "\n",
    "raw_date = \"2017-08-22T16:40:00+08:00\"\n",
    "\n",
    "def change_date_format(raw_date): \n",
    "    expr = r\"\\b(?P<year>\\d\\d\\d\\d)-(?P<month>\\d\\d)-(?P<date>\\d\\d)T(?P<hour>\\d\\d):(?P<minute>\\d\\d):(?P<second>\\d\\d)\\b\"\n",
    "    x = re.search(expr, raw_date)\n",
    "    \n",
    "    return x.group('year') + '-' + x.group('month') + '-' + x.group('date') + ' ' + x.group('hour') + ':' + x.group('minute') + ':' + x.group('second')\n",
    "\n",
    "change_date_format(raw_date)"
   ]
  },
  {
   "cell_type": "code",
   "execution_count": null,
   "metadata": {
    "collapsed": true
   },
   "outputs": [],
   "source": []
  }
 ],
 "metadata": {
  "kernelspec": {
   "display_name": "Python 3",
   "language": "python",
   "name": "python3"
  },
  "language_info": {
   "codemirror_mode": {
    "name": "ipython",
    "version": 3
   },
   "file_extension": ".py",
   "mimetype": "text/x-python",
   "name": "python",
   "nbconvert_exporter": "python",
   "pygments_lexer": "ipython3",
   "version": "3.6.2"
  }
 },
 "nbformat": 4,
 "nbformat_minor": 2
}
